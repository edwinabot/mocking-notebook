{
 "cells": [
  {
   "cell_type": "markdown",
   "metadata": {},
   "source": [
    "# Mocking using the Patch function\n",
    "\n",
    "In this notebook I will share examples on how to do mocking on our unit tests using the `patch` function of the `unittest.mock` module.\n",
    "\n",
    "I will also dedicate some lines to the relation of _**mocks**_ and _**scopes**_ for successfully mocking our targets"
   ]
  },
  {
   "cell_type": "markdown",
   "metadata": {},
   "source": [
    "## Mocking the `len` BIF"
   ]
  },
  {
   "cell_type": "code",
   "execution_count": 1,
   "metadata": {},
   "outputs": [
    {
     "name": "stderr",
     "output_type": "stream",
     "text": [
      ".\n",
      "----------------------------------------------------------------------\n",
      "Ran 1 test in 0.002s\n",
      "\n",
      "OK\n"
     ]
    },
    {
     "data": {
      "text/plain": [
       "<unittest.main.TestProgram at 0x7f74b85e7908>"
      ]
     },
     "execution_count": 1,
     "metadata": {},
     "output_type": "execute_result"
    }
   ],
   "source": [
    "import unittest\n",
    "from unittest.mock import patch\n",
    "\n",
    "\n",
    "class Test(unittest.TestCase):\n",
    "    @patch('__main__.len')  # I need to mock the len bif, so I patch it \n",
    "    def test_len(self, len_mock):\n",
    "        len_mock.return_value = 0  # I need len to return 0 when it gets invoked\n",
    "        self.assertEqual(len(\"six\"), 0)  # not patched len of 'six' would return 3\n",
    "\n",
    "unittest.main(argv=['.', 'Test'], exit=False)  # This is how you run unittests in notebooks ;)\n"
   ]
  },
  {
   "cell_type": "markdown",
   "metadata": {},
   "source": [
    "#### Explanation\n",
    "Here I used `patch` as a decorator for `test_len`. The first param for patch is the path to the `target` to be mocked, in this example is `'__main__.len'`. \n",
    "\n",
    "What is `__main__`? that is the name of the module that IPhython created for this notebook. You can check the name of the module by exploring the `__name__` variable."
   ]
  },
  {
   "cell_type": "code",
   "execution_count": 2,
   "metadata": {},
   "outputs": [
    {
     "name": "stdout",
     "output_type": "stream",
     "text": [
      "True\n"
     ]
    }
   ],
   "source": [
    "print(__name__ == '__main__')  # This is True"
   ]
  },
  {
   "cell_type": "markdown",
   "metadata": {},
   "source": [
    "Patch created a MagicMock object that replaced the len function, this object was passed as an argument of `test_len`: `len_mock`. Then we assigned a return value for the mock to be returned when invoked. So for the lifespan of `test_len` any invocation to len will return 0 regardles of the invocation parameters."
   ]
  },
  {
   "cell_type": "markdown",
   "metadata": {},
   "source": [
    "## Identifying the target\n",
    "\n",
    "It is very important to know **\"what to mock\"** and **\"where the target lives\"**, those two things will **identify the target**.\n",
    "\n",
    "In terms of _what to mock_ you might want to mock an attribute of an object or maybe one of it's methods or any of it's members for that matter. Maybe you want to mock an entire class. You would decide that thinking on **\"over what you need to have full control\"** in your test.\n",
    "\n",
    "Regarding _where the target lives_, first of all the target must be importable from the test module, if not you will potentially get either ModuleNotFoundError, AttributeError or ImportError and your test wont work. Secondly you need to **\"patch where the object is used, NOT where its defined\"**, this means that you'll have to identify where the target is being looked up, its containing scope. To be more precise, **the target is the object instance present in the containing scope of the artifact being tested, that it is going to be used by the artifact, and not the definition of the object**.\n",
    "\n",
    "See examples one and two that ilustrates what I wrote before."
   ]
  },
  {
   "cell_type": "markdown",
   "metadata": {},
   "source": [
    "### Example 1"
   ]
  },
  {
   "cell_type": "code",
   "execution_count": 3,
   "metadata": {},
   "outputs": [
    {
     "name": "stderr",
     "output_type": "stream",
     "text": [
      "test_do_example_one_bad_patch (__main__.TestExampleOne) ... FAIL\n",
      "test_do_example_one_good_patch (__main__.TestExampleOne) ... ok\n",
      "test_do_example_one_no_mock (__main__.TestExampleOne) ... "
     ]
    },
    {
     "name": "stdout",
     "output_type": "stream",
     "text": [
      "\n",
      "I got 1434704449655547027\n",
      "\n",
      "I got 8\n",
      "\n",
      "I got 3348048791324072659\n"
     ]
    },
    {
     "name": "stderr",
     "output_type": "stream",
     "text": [
      "ok\n",
      "\n",
      "======================================================================\n",
      "FAIL: test_do_example_one_bad_patch (__main__.TestExampleOne)\n",
      "----------------------------------------------------------------------\n",
      "Traceback (most recent call last):\n",
      "  File \"/home/edwin/miniconda3/lib/python3.7/unittest/mock.py\", line 1204, in patched\n",
      "    return func(*args, **keywargs)\n",
      "  File \"<ipython-input-3-6c5d2713ecc1>\", line 14, in test_do_example_one_bad_patch\n",
      "    self.assertEqual(result, 8)\n",
      "AssertionError: 1434704449655547027 != 8\n",
      "\n",
      "----------------------------------------------------------------------\n",
      "Ran 3 tests in 0.006s\n",
      "\n",
      "FAILED (failures=1)\n"
     ]
    },
    {
     "data": {
      "text/plain": [
       "<unittest.main.TestProgram at 0x7f74b85e7240>"
      ]
     },
     "execution_count": 3,
     "metadata": {},
     "output_type": "execute_result"
    }
   ],
   "source": [
    "from example_one import do_example_one\n",
    "\n",
    "\n",
    "class TestExampleOne(unittest.TestCase):\n",
    "    def test_do_example_one_no_mock(self):\n",
    "        result = do_example_one()\n",
    "        self.assertTrue(isinstance(result, int))\n",
    "\n",
    "    # This mock is wrong, I'm mocking where get_random_natural is defined,\n",
    "    # not where it is used\n",
    "    @patch('randomizers.get_random_natural', new=lambda: 8)\n",
    "    def test_do_example_one_bad_patch(self):\n",
    "        result = do_example_one()\n",
    "        self.assertEqual(result, 8)\n",
    "\n",
    "    # This mock is good, I'm mocking where get_random_natural is used,\n",
    "    # not where it is defined. Here I am mocking the instance of \n",
    "    # get_random_natural function loaded by the example_one module\n",
    "    @patch('example_one.get_random_natural', new=lambda: 8)\n",
    "    def test_do_example_one_good_patch(self):\n",
    "        result = do_example_one()\n",
    "        self.assertEqual(result, 8)\n",
    "\n",
    "unittest.main(argv=['.', 'TestExampleOne', '-v'], exit=False)\n"
   ]
  },
  {
   "cell_type": "markdown",
   "metadata": {},
   "source": [
    "### Example 2"
   ]
  },
  {
   "cell_type": "code",
   "execution_count": 4,
   "metadata": {},
   "outputs": [
    {
     "name": "stderr",
     "output_type": "stream",
     "text": [
      "test_do_example_two_bad_patch (__main__.TestExampleTwo) ... ERROR\n",
      "test_do_example_two_good_patch (__main__.TestExampleTwo) ... ok\n",
      "test_do_example_two_no_mock (__main__.TestExampleTwo) ... "
     ]
    },
    {
     "name": "stdout",
     "output_type": "stream",
     "text": [
      "\n",
      "I got 8\n",
      "\n",
      "I got 2438821792798670994\n"
     ]
    },
    {
     "name": "stderr",
     "output_type": "stream",
     "text": [
      "ok\n",
      "\n",
      "======================================================================\n",
      "ERROR: test_do_example_two_bad_patch (__main__.TestExampleTwo)\n",
      "----------------------------------------------------------------------\n",
      "Traceback (most recent call last):\n",
      "  File \"/home/edwin/miniconda3/lib/python3.7/unittest/mock.py\", line 1196, in patched\n",
      "    arg = patching.__enter__()\n",
      "  File \"/home/edwin/miniconda3/lib/python3.7/unittest/mock.py\", line 1268, in __enter__\n",
      "    original, local = self.get_original()\n",
      "  File \"/home/edwin/miniconda3/lib/python3.7/unittest/mock.py\", line 1242, in get_original\n",
      "    \"%s does not have the attribute %r\" % (target, name)\n",
      "AttributeError: <module 'example_two' from '/home/edwin/Notebooks/mocking/example_two.py'> does not have the attribute 'get_random_natural'\n",
      "\n",
      "----------------------------------------------------------------------\n",
      "Ran 3 tests in 0.005s\n",
      "\n",
      "FAILED (errors=1)\n"
     ]
    },
    {
     "data": {
      "text/plain": [
       "<unittest.main.TestProgram at 0x7f74b8570828>"
      ]
     },
     "execution_count": 4,
     "metadata": {},
     "output_type": "execute_result"
    }
   ],
   "source": [
    "from example_two import do_example_two\n",
    "\n",
    "\n",
    "class TestExampleTwo(unittest.TestCase):\n",
    "    def test_do_example_two_no_mock(self):\n",
    "        result = do_example_two()\n",
    "        self.assertTrue(isinstance(result, int))\n",
    "\n",
    "    # This target is wrong because get_random_natural is not a member\n",
    "    # of example_two scope\n",
    "    @patch('example_two.get_random_natural', new=lambda: 8)\n",
    "    def test_do_example_two_bad_patch(self):\n",
    "        result = do_example_two()\n",
    "        self.assertEqual(result, 8)\n",
    "\n",
    "    # In this case example_two module loads the randomizers module,\n",
    "    # so now it doesn't have an isolated instance of get_random_natural, it\n",
    "    # has an instance of the whole randomizers module.\n",
    "    # get_random_natural now can be looked up as an attribute of randomizers,\n",
    "    # and that is our target.unittest\n",
    "    # Bear in mind that in this particular case\n",
    "    # 'example_two.randomizers.get_random_natural' equals 'randomizers.get_random_natural'\n",
    "    # The former is explicit, \"Explicit is better than implicit\" Zen of Python\n",
    "    @patch('example_two.randomizers.get_random_natural', new=lambda: 8)\n",
    "    def test_do_example_two_good_patch(self):\n",
    "        result = do_example_two()\n",
    "        self.assertEqual(result, 8)\n",
    "\n",
    "unittest.main(argv=['.', 'TestExampleTwo', '-v'], exit=False)\n"
   ]
  },
  {
   "cell_type": "markdown",
   "metadata": {},
   "source": [
    "## Ways of calling Patch\n",
    "\n",
    "There are different ways of calling patch and some different patch flavors also. You will see how to patch by: decorating a function, decorating a class, using a context manager and manually starting and stoping a patch. Also I will list some guidelines on when to use each form\n",
    "\n",
    "\n"
   ]
  },
  {
   "cell_type": "code",
   "execution_count": 5,
   "metadata": {},
   "outputs": [
    {
     "name": "stderr",
     "output_type": "stream",
     "text": [
      "test_patch_many (__main__.TestPatchingShowcase) ... ok\n",
      "test_patch_with_context_manager (__main__.TestPatchingShowcase) ... ok\n",
      "test_patch_with_decorator (__main__.TestPatchingShowcase) ... "
     ]
    },
    {
     "name": "stdout",
     "output_type": "stream",
     "text": [
      "\n",
      "------ patched ------\n",
      "I got 5.0\n",
      "\n",
      "------ patched ------\n",
      "I got 0.21\n",
      "\n",
      "------ patched ------\n",
      "I got 0.5499657579612143\n",
      "\n",
      "------ patched ------\n",
      "I got 0.5\n"
     ]
    },
    {
     "name": "stderr",
     "output_type": "stream",
     "text": [
      "ok\n",
      "\n",
      "----------------------------------------------------------------------\n",
      "Ran 3 tests in 0.011s\n",
      "\n",
      "OK\n"
     ]
    },
    {
     "data": {
      "text/plain": [
       "<unittest.main.TestProgram at 0x7f74b854e828>"
      ]
     },
     "execution_count": 5,
     "metadata": {},
     "output_type": "execute_result"
    }
   ],
   "source": [
    "from example_three import do_example_three, do_example_three_again\n",
    "\n",
    "# We can apply patch at class level, this patch will affect all test methods\n",
    "# and will be active throughout the life of the test case\n",
    "@patch('example_three.print', new=lambda x: print(f'\\n------ patched ------{x}'))\n",
    "class TestPatchingShowcase(unittest.TestCase):\n",
    "\n",
    "    # This is not new, we can apply a patch to a method\n",
    "    # the mock will be active during the life of the function\n",
    "    @patch('example_three.get_random_ratio')\n",
    "    def test_patch_with_decorator(self, mocked_get_random_ratio):\n",
    "        mocked_get_random_ratio.return_value = 0.5\n",
    "        result = do_example_three()\n",
    "        self.assertTrue(isinstance(mocked_get_random_ratio, unittest.mock.MagicMock))\n",
    "        self.assertEqual(result, 0.5)\n",
    "\n",
    "        # We can do some analysis of how the mock was used\n",
    "        # https://docs.python.org/3.7/library/unittest.mock.html#unittest.mock.Mock.called\n",
    "        self.assertTrue(mocked_get_random_ratio.called)\n",
    "\n",
    "    def test_patch_with_context_manager(self):\n",
    "        # This is how you can use a context manager for mocking,\n",
    "        # the mock will be active during the life of the context manager scope.\n",
    "        # Mocks created with context managers are the shortest lived ones\n",
    "        with patch('example_three.get_random_ratio') as mocked_get_random_ratio:\n",
    "            mocked_get_random_ratio.return_value = 0.21\n",
    "            result = do_example_three()\n",
    "        self.assertTrue(isinstance(mocked_get_random_ratio, unittest.mock.MagicMock))\n",
    "        self.assertEqual(result, 0.21)\n",
    "\n",
    "        # Here I invoque do_example_three not being mocked,\n",
    "        # the following assert might not pass\n",
    "        self.assertNotEqual(do_example_three(), 0.21)\n",
    "    \n",
    "    # This is perfectly valid mocking, but what happens if decorators starts to pile up?,\n",
    "    # code starts to get messi, params list gets bigger and unreadable.\n",
    "    # check next examples to see how to do this differently\n",
    "    @patch('example_three.get_random_natural')\n",
    "    @patch('example_three.get_random_ratio')\n",
    "    def test_patch_many(self, get_random_ratio, get_random_natural):\n",
    "        get_random_natural.return_value = 10\n",
    "        get_random_ratio.return_value = .5\n",
    "        result = do_example_three_again()\n",
    "        self.assertEqual(result, 5)\n",
    "\n",
    "unittest.main(argv=['.', 'TestPatchingShowcase', '-v'], exit=False)"
   ]
  },
  {
   "cell_type": "code",
   "execution_count": 6,
   "metadata": {},
   "outputs": [
    {
     "name": "stderr",
     "output_type": "stream",
     "text": [
      "test_manual_patching (__main__.TestMorePatchingShowcase) ... "
     ]
    },
    {
     "name": "stdout",
     "output_type": "stream",
     "text": [
      "\n",
      "I got 5.0\n"
     ]
    },
    {
     "name": "stderr",
     "output_type": "stream",
     "text": [
      "ok\n",
      "\n",
      "----------------------------------------------------------------------\n",
      "Ran 1 test in 0.004s\n",
      "\n",
      "OK\n"
     ]
    },
    {
     "data": {
      "text/plain": [
       "<unittest.main.TestProgram at 0x7f74b8570198>"
      ]
     },
     "execution_count": 6,
     "metadata": {},
     "output_type": "execute_result"
    }
   ],
   "source": [
    "class TestMorePatchingShowcase(unittest.TestCase):\n",
    "    \n",
    "    # Readability is not the only reason one would want to\n",
    "    # do this, that will depend on the use case\n",
    "    def setUp(self):\n",
    "        self.get_random_natural = patch('example_three.get_random_ratio').start()\n",
    "        self.get_random_ratio = patch('example_three.get_random_natural').start()\n",
    "        \n",
    "        # tearDown is not the place to stop all mocks, because if an exception happens\n",
    "        # during the test tearDown won't be executed. addCleanup is a better\n",
    "        # place because the callback will be invoked no matter what, think of\n",
    "        # this as a 'finally' clause for test cases\n",
    "        self.addCleanup(patch.stopall)\n",
    "\n",
    "    def test_manual_patching(self):\n",
    "        self.get_random_natural.return_value = 10\n",
    "        self.get_random_ratio.return_value = .5\n",
    "        result = do_example_three_again()\n",
    "        self.assertEqual(result, 5)\n",
    "\n",
    "unittest.main(argv=['.', 'TestMorePatchingShowcase', '-v'], exit=False)"
   ]
  },
  {
   "cell_type": "markdown",
   "metadata": {},
   "source": [
    "### When to use the different forms\n",
    "\n",
    "This are some ideas to help you decide over one or another way of patching:\n",
    "\n",
    "* _Decorator (functions and class)_: Good for quickly patching one depencency, which is **most of the time**.\n",
    "* _Context Managers_: great when mocking standard library stuff or sensible dependencies. Don't use this to create multiple assertions in one test, create test functions for each case\n",
    "* _Manual start and stop_: good for high customization and extremely long lived mocks"
   ]
  },
  {
   "cell_type": "markdown",
   "metadata": {},
   "source": [
    "## Resources\n",
    "\n",
    "* mock object library - patch  (https://docs.python.org/3.7/library/unittest.mock.html#unittest.mock.patch)\n",
    "* Lisa Roach - Demystifying the Patch Function - PyCon 2018 (https://www.youtube.com/watch?v=ww1UsGZV8fQ)\n",
    "* Scope of Variables in Python Tutorial (https://www.datacamp.com/community/tutorials/scope-of-variables-python)\n"
   ]
  }
 ],
 "metadata": {
  "file_extension": ".py",
  "kernelspec": {
   "display_name": "Python 3",
   "language": "python",
   "name": "python3"
  },
  "language_info": {
   "codemirror_mode": {
    "name": "ipython",
    "version": 3
   },
   "file_extension": ".py",
   "mimetype": "text/x-python",
   "name": "python",
   "nbconvert_exporter": "python",
   "pygments_lexer": "ipython3",
   "version": "3.7.3"
  },
  "mimetype": "text/x-python",
  "name": "python",
  "npconvert_exporter": "python",
  "pygments_lexer": "ipython3",
  "version": 3
 },
 "nbformat": 4,
 "nbformat_minor": 2
}
